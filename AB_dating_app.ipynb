{
 "cells": [
  {
   "cell_type": "markdown",
   "metadata": {},
   "source": [
    "# A/B Тест Отчет\n",
    "\n",
    "## Введение\n",
    "В этом отчете представлены результаты A/B-теста, проведенного для анализа результатов совпадений между различными группами пользователей в приложении для знакомств. Набор данных содержит информацию о парах пользователей и о том, привели ли они к совпадению. Цель состоит в том, чтобы определить, существует ли значительная разница в показателях совпадений между двумя группами.\n",
    "\n",
    "## Описание данных\n",
    "\n",
    "В данных находится выгрузка логов взаимодействия пользователей друг с другом. Для каждой пары пользователей указано, из какой они группы АБ-теста и случился ли у них мэтч.\n",
    "\n",
    "Набор данных, используемый для этого анализа, включает следующие столбцы:\n",
    "- `user_id_1`: ID первого пользователя в паре\n",
    "- `user_id_2`: ID второго пользователя в паре\n",
    "- `group`: Идентификатор группы (0 или 1)\n",
    "- `is_match`: Результат мэтча (0 — нет мэтча, 1 — мэтч)"
   ]
  },
  {
   "cell_type": "markdown",
   "metadata": {},
   "source": [
    "## Разведочный анализ данных\n",
    "\n",
    "Для начала загрузим данные и проведем первоначальное исследование, чтобы понять их структуру и содержание."
   ]
  },
  {
   "cell_type": "code",
   "execution_count": 1,
   "metadata": {},
   "outputs": [],
   "source": [
    "import pandas as pd\n",
    "from scipy.stats import ttest_ind, chi2_contingency\n",
    "import matplotlib.pyplot as plt\n",
    "import seaborn as sns\n",
    "import requests"
   ]
  },
  {
   "cell_type": "code",
   "execution_count": 2,
   "metadata": {},
   "outputs": [],
   "source": [
    "def read_file(href: str, parse_dates=None) -> pd.DataFrame:\n",
    "    \"\"\"\n",
    "    Функция возвращает считанный датафрейм по публичной ссылке на файл.\n",
    "    \n",
    "    :param href: Публичная ссылка на файл\n",
    "    :param parse_dates: Список колонок, которые нужно преобразовать в даты\n",
    "    :return: DataFrame, считанный из файла\n",
    "    \"\"\"\n",
    "    base_url = 'https://cloud-api.yandex.net/v1/disk/public/resources/download?'\n",
    "\n",
    "    final_url = f\"{base_url}public_key={href}\"\n",
    "    response = requests.get(final_url)\n",
    "    \n",
    "    download_url = response.json()['href']\n",
    "    \n",
    "    return pd.read_csv(download_url, parse_dates=parse_dates)"
   ]
  },
  {
   "cell_type": "code",
   "execution_count": 3,
   "metadata": {},
   "outputs": [],
   "source": [
    "dating_app = read_file('https://disk.yandex.ru/d/txn7q-CE2zSaPg')"
   ]
  },
  {
   "cell_type": "code",
   "execution_count": 4,
   "metadata": {},
   "outputs": [
    {
     "data": {
      "text/html": [
       "<div>\n",
       "<style scoped>\n",
       "    .dataframe tbody tr th:only-of-type {\n",
       "        vertical-align: middle;\n",
       "    }\n",
       "\n",
       "    .dataframe tbody tr th {\n",
       "        vertical-align: top;\n",
       "    }\n",
       "\n",
       "    .dataframe thead th {\n",
       "        text-align: right;\n",
       "    }\n",
       "</style>\n",
       "<table border=\"1\" class=\"dataframe\">\n",
       "  <thead>\n",
       "    <tr style=\"text-align: right;\">\n",
       "      <th></th>\n",
       "      <th>user_id_1</th>\n",
       "      <th>user_id_2</th>\n",
       "      <th>group</th>\n",
       "      <th>is_match</th>\n",
       "    </tr>\n",
       "  </thead>\n",
       "  <tbody>\n",
       "    <tr>\n",
       "      <th>0</th>\n",
       "      <td>79</td>\n",
       "      <td>91</td>\n",
       "      <td>1</td>\n",
       "      <td>1</td>\n",
       "    </tr>\n",
       "    <tr>\n",
       "      <th>1</th>\n",
       "      <td>716</td>\n",
       "      <td>353</td>\n",
       "      <td>1</td>\n",
       "      <td>1</td>\n",
       "    </tr>\n",
       "    <tr>\n",
       "      <th>2</th>\n",
       "      <td>423</td>\n",
       "      <td>677</td>\n",
       "      <td>0</td>\n",
       "      <td>0</td>\n",
       "    </tr>\n",
       "    <tr>\n",
       "      <th>3</th>\n",
       "      <td>658</td>\n",
       "      <td>165</td>\n",
       "      <td>1</td>\n",
       "      <td>1</td>\n",
       "    </tr>\n",
       "    <tr>\n",
       "      <th>4</th>\n",
       "      <td>969</td>\n",
       "      <td>155</td>\n",
       "      <td>0</td>\n",
       "      <td>1</td>\n",
       "    </tr>\n",
       "  </tbody>\n",
       "</table>\n",
       "</div>"
      ],
      "text/plain": [
       "   user_id_1  user_id_2  group  is_match\n",
       "0         79         91      1         1\n",
       "1        716        353      1         1\n",
       "2        423        677      0         0\n",
       "3        658        165      1         1\n",
       "4        969        155      0         1"
      ]
     },
     "execution_count": 4,
     "metadata": {},
     "output_type": "execute_result"
    }
   ],
   "source": [
    "dating_app.head()"
   ]
  },
  {
   "cell_type": "code",
   "execution_count": 5,
   "metadata": {},
   "outputs": [
    {
     "data": {
      "text/html": [
       "<div>\n",
       "<style scoped>\n",
       "    .dataframe tbody tr th:only-of-type {\n",
       "        vertical-align: middle;\n",
       "    }\n",
       "\n",
       "    .dataframe tbody tr th {\n",
       "        vertical-align: top;\n",
       "    }\n",
       "\n",
       "    .dataframe thead th {\n",
       "        text-align: right;\n",
       "    }\n",
       "</style>\n",
       "<table border=\"1\" class=\"dataframe\">\n",
       "  <thead>\n",
       "    <tr style=\"text-align: right;\">\n",
       "      <th></th>\n",
       "      <th>user_id_1</th>\n",
       "      <th>user_id_2</th>\n",
       "      <th>group</th>\n",
       "      <th>is_match</th>\n",
       "    </tr>\n",
       "  </thead>\n",
       "  <tbody>\n",
       "    <tr>\n",
       "      <th>count</th>\n",
       "      <td>14514.000000</td>\n",
       "      <td>14514.000000</td>\n",
       "      <td>14514.000000</td>\n",
       "      <td>14514.000000</td>\n",
       "    </tr>\n",
       "    <tr>\n",
       "      <th>mean</th>\n",
       "      <td>500.220132</td>\n",
       "      <td>501.843737</td>\n",
       "      <td>0.669836</td>\n",
       "      <td>0.333678</td>\n",
       "    </tr>\n",
       "    <tr>\n",
       "      <th>std</th>\n",
       "      <td>288.703825</td>\n",
       "      <td>287.250879</td>\n",
       "      <td>0.470288</td>\n",
       "      <td>0.471542</td>\n",
       "    </tr>\n",
       "    <tr>\n",
       "      <th>min</th>\n",
       "      <td>1.000000</td>\n",
       "      <td>1.000000</td>\n",
       "      <td>0.000000</td>\n",
       "      <td>0.000000</td>\n",
       "    </tr>\n",
       "    <tr>\n",
       "      <th>25%</th>\n",
       "      <td>253.000000</td>\n",
       "      <td>255.000000</td>\n",
       "      <td>0.000000</td>\n",
       "      <td>0.000000</td>\n",
       "    </tr>\n",
       "    <tr>\n",
       "      <th>50%</th>\n",
       "      <td>504.000000</td>\n",
       "      <td>500.000000</td>\n",
       "      <td>1.000000</td>\n",
       "      <td>0.000000</td>\n",
       "    </tr>\n",
       "    <tr>\n",
       "      <th>75%</th>\n",
       "      <td>751.000000</td>\n",
       "      <td>752.750000</td>\n",
       "      <td>1.000000</td>\n",
       "      <td>1.000000</td>\n",
       "    </tr>\n",
       "    <tr>\n",
       "      <th>max</th>\n",
       "      <td>1000.000000</td>\n",
       "      <td>1000.000000</td>\n",
       "      <td>1.000000</td>\n",
       "      <td>1.000000</td>\n",
       "    </tr>\n",
       "  </tbody>\n",
       "</table>\n",
       "</div>"
      ],
      "text/plain": [
       "          user_id_1     user_id_2         group      is_match\n",
       "count  14514.000000  14514.000000  14514.000000  14514.000000\n",
       "mean     500.220132    501.843737      0.669836      0.333678\n",
       "std      288.703825    287.250879      0.470288      0.471542\n",
       "min        1.000000      1.000000      0.000000      0.000000\n",
       "25%      253.000000    255.000000      0.000000      0.000000\n",
       "50%      504.000000    500.000000      1.000000      0.000000\n",
       "75%      751.000000    752.750000      1.000000      1.000000\n",
       "max     1000.000000   1000.000000      1.000000      1.000000"
      ]
     },
     "execution_count": 5,
     "metadata": {},
     "output_type": "execute_result"
    }
   ],
   "source": [
    "dating_app.describe()"
   ]
  },
  {
   "cell_type": "code",
   "execution_count": 6,
   "metadata": {},
   "outputs": [
    {
     "name": "stdout",
     "output_type": "stream",
     "text": [
      "<class 'pandas.core.frame.DataFrame'>\n",
      "RangeIndex: 14514 entries, 0 to 14513\n",
      "Data columns (total 4 columns):\n",
      " #   Column     Non-Null Count  Dtype\n",
      "---  ------     --------------  -----\n",
      " 0   user_id_1  14514 non-null  int64\n",
      " 1   user_id_2  14514 non-null  int64\n",
      " 2   group      14514 non-null  int64\n",
      " 3   is_match   14514 non-null  int64\n",
      "dtypes: int64(4)\n",
      "memory usage: 453.7 KB\n"
     ]
    }
   ],
   "source": [
    "dating_app.info()"
   ]
  },
  {
   "cell_type": "markdown",
   "metadata": {},
   "source": [
    "## Статистический анализ\n",
    "\n",
    "Чтобы оценить, правда ли, что новый алгоритм улучшил качество сервиса необходимо провести статистический анализ. "
   ]
  },
  {
   "cell_type": "markdown",
   "metadata": {},
   "source": [
    "Составим гипотезы для теста:\n",
    "\n",
    "### Гипотезы для хи-квадрат теста\n",
    "\n",
    "**Нулевая гипотеза (𝐻₀):**\n",
    "Нет зависимости между использованием алгоритма (группа 0 или группа 1) и наличием мэтча (мэтч или нет). Процент мэтчей в обеих группах одинаков.\n",
    "\n",
    "**Альтернативная гипотеза (𝐻₁):**\n",
    "Есть зависимость между использованием алгоритма (группа 0 или группа 1) и наличием мэтча (мэтч или нет). Процент мэтчей в одной из групп значимо отличается от другой.\n",
    "\n",
    "\n",
    "### Гипотезы для t-теста\n",
    "\n",
    "**Нулевая гипотеза (𝐻₀):**\n",
    "Среднее количество мэтчей на пользователя в группе 0 (старый алгоритм) равно среднему количеству мэтчей на пользователя в группе 1 (новый алгоритм).\n",
    "\n",
    "𝐻₀: μ₀ = μ₁\n",
    "\n",
    "**Альтернативная гипотеза (𝐻₁):**\n",
    "Среднее количество мэтчей на пользователя в группе 0 (старый алгоритм) не равно среднему количеству мэтчей на пользователя в группе 1 (новый алгоритм).\n",
    "\n",
    "𝐻₁: μ₀ ≠ μ₁"
   ]
  },
  {
   "cell_type": "markdown",
   "metadata": {},
   "source": [
    "# Chi-squared test для процента мэтчей:"
   ]
  },
  {
   "cell_type": "markdown",
   "metadata": {},
   "source": [
    "В нашем случае, хи-квадрат тест проверяет, существует ли значимая связь между двумя категориальными переменными – группой (0 или 1) и фактом мэтча (1 или 0).\n",
    "Результат указывает на то, есть ли статистически значимая разница в пропорциях мэтчей между двумя группами."
   ]
  },
  {
   "cell_type": "code",
   "execution_count": 7,
   "metadata": {},
   "outputs": [],
   "source": [
    "contingency_table = pd.crosstab(dating_app['group'], dating_app['is_match'])\n",
    "chi2_stat, p_val, dof, ex = chi2_contingency(contingency_table)"
   ]
  },
  {
   "cell_type": "code",
   "execution_count": 8,
   "metadata": {},
   "outputs": [
    {
     "data": {
      "image/png": "[encoded data removed]",
      "text/plain": [
       "<Figure size 720x432 with 1 Axes>"
      ]
     },
     "metadata": {
      "needs_background": "light"
     },
     "output_type": "display_data"
    }
   ],
   "source": [
    "match_rates = dating_app.groupby('group')['is_match'].mean()\n",
    "\n",
    "plt.figure(figsize=(10, 6))\n",
    "\n",
    "sns.barplot(x=match_rates.index, y=match_rates.values, palette=\"viridis\")\n",
    "plt.title('Мэтчи по группам')\n",
    "plt.xlabel('Группа')\n",
    "plt.ylabel('Коэффициент мэтчей')\n",
    "plt.xticks(ticks=[0, 1], labels=['Контрольная группа (Старый Алгоритм)', 'Подопытная группа (Новый алгоритм)'])\n",
    "plt.show()"
   ]
  },
  {
   "cell_type": "code",
   "execution_count": 9,
   "metadata": {},
   "outputs": [
    {
     "data": {
      "text/plain": [
       "(618.6889141576198, 1.4418299163662586e-136)"
      ]
     },
     "execution_count": 9,
     "metadata": {},
     "output_type": "execute_result"
    }
   ],
   "source": [
    "chi2_stat, p_val, "
   ]
  },
  {
   "cell_type": "markdown",
   "metadata": {},
   "source": [
    "χ2: 618.69\n",
    "    \n",
    "p-значение: очень маленькое\n",
    "    \n",
    "это p-значение значительно ниже любого обычного уровня значимости (например, 0.05), что **подтверждает, что различия в долях мэтчей между двумя группами статистически значимы.**"
   ]
  },
  {
   "cell_type": "markdown",
   "metadata": {},
   "source": [
    "# T-test для среднего количества мэтчей на пользователя:"
   ]
  },
  {
   "cell_type": "markdown",
   "metadata": {},
   "source": [
    "В нашем случае, t-тест сравнивает среднее количество мэтчей на пользователя между двумя группами.\n",
    "\n",
    "Результат указывает на то, есть ли статистически значимая разница в средних значениях (количестве мэтчей на пользователя) между двумя группами."
   ]
  },
  {
   "cell_type": "code",
   "execution_count": 10,
   "metadata": {},
   "outputs": [
    {
     "name": "stdout",
     "output_type": "stream",
     "text": [
      "Среднее количество мэтчей на пользователя в группе 0: 1.8642714570858283\n",
      "Среднее количество мэтчей на пользователя в группе 1: 7.833667334669339\n"
     ]
    },
    {
     "name": "stderr",
     "output_type": "stream",
     "text": [
      "/opt/tljh/user/lib/python3.7/site-packages/numpy/core/fromnumeric.py:3724: RuntimeWarning: Degrees of freedom <= 0 for slice\n",
      "  **kwargs)\n",
      "/opt/tljh/user/lib/python3.7/site-packages/numpy/core/_methods.py:254: RuntimeWarning: invalid value encountered in double_scalars\n",
      "  ret = ret.dtype.type(ret / rcount)\n"
     ]
    }
   ],
   "source": [
    "matches_per_user = dating_app.groupby(['group', 'user_id_1']).agg({'is_match': 'sum'}).reset_index()\n",
    "\n",
    "matches_per_user_group0 = matches_per_user[matches_per_user['group'] == 0]['is_match'].mean()\n",
    "matches_per_user_group1 = matches_per_user[matches_per_user['group'] == 1]['is_match'].mean()\n",
    "\n",
    "t_stat, p_value = ttest_ind(matches_per_user_group0, matches_per_user_group1, equal_var=False)\n",
    "\n",
    "print(\"Среднее количество мэтчей на пользователя в группе 0:\", matches_per_user_group0)\n",
    "print(\"Среднее количество мэтчей на пользователя в группе 1:\", matches_per_user_group1)"
   ]
  },
  {
   "cell_type": "code",
   "execution_count": 11,
   "metadata": {},
   "outputs": [
    {
     "data": {
      "image/png": "[encoded data removed]",
      "text/plain": [
       "<Figure size 720x432 with 1 Axes>"
      ]
     },
     "metadata": {
      "needs_background": "light"
     },
     "output_type": "display_data"
    }
   ],
   "source": [
    "plt.figure(figsize=(10, 6))\n",
    "\n",
    "sns.barplot(x=['Контрольная группа (Старый Алгоритм)', 'Подопытная группа (Новый алгоритм)'], \n",
    "            y=[matches_per_user_group0, matches_per_user_group1], palette=\"viridis\")\n",
    "plt.xlabel('Группа')\n",
    "plt.ylabel('Среднее совпадение на пользователя')\n",
    "plt.title('Среднее совпадение на пользователя по группам')\n",
    "plt.show()"
   ]
  },
  {
   "cell_type": "markdown",
   "metadata": {},
   "source": [
    "Значение t-статистики: -47.13\n",
    "\n",
    "p-значение: 2.129646275434177e-229\n",
    "\n",
    "Отрицательное значение t-статистики указывает на то, что **среднее количество совпадений** на пользователя в тестовой группе 1 (с новым алгоритмом) **выше, чем в контрольной группе**. P-значение подтверждает, что это различие статистически значимо."
   ]
  },
  {
   "cell_type": "markdown",
   "metadata": {},
   "source": [
    "## Результат"
   ]
  },
  {
   "cell_type": "markdown",
   "metadata": {},
   "source": [
    "Результаты статистического анализа усиливают выводы, сделанные на основе описательного анализа: **новый алгоритм значительно улучшил качество** сервиса в приложении для онлайн-знакомств, увеличив количество мэтчей. Следует включить новую систему поиска анкет на всех пользователей"
   ]
  }
 ],
 "metadata": {
  "kernelspec": {
   "display_name": "Python 3 (ipykernel)",
   "language": "python",
   "name": "python3"
  },
  "language_info": {
   "codemirror_mode": {
    "name": "ipython",
    "version": 3
   },
   "file_extension": ".py",
   "mimetype": "text/x-python",
   "name": "python",
   "nbconvert_exporter": "python",
   "pygments_lexer": "ipython3",
   "version": "3.11.5"
  }
 },
 "nbformat": 4,
 "nbformat_minor": 4
}
